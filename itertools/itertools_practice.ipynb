{
 "cells": [
  {
   "cell_type": "markdown",
   "id": "e042a6a1",
   "metadata": {},
   "source": [
    "## 👋 Welcome to itertools Practice Notebook\n",
    "This notebook covers categorized usage of Python's `itertools` module with examples."
   ]
  },
  {
   "cell_type": "code",
   "execution_count": 1,
   "id": "70f0c4bd",
   "metadata": {},
   "outputs": [],
   "source": [
    "import itertools as itt\n",
    "from math import pow"
   ]
  },
  {
   "cell_type": "code",
   "execution_count": 2,
   "id": "607804b0",
   "metadata": {},
   "outputs": [
    {
     "name": "stdout",
     "output_type": "stream",
     "text": [
      "----- Hello, Welcome to Python itertools practice! -----\n",
      "Let's explore and practice various methods and properties of Python's itertools module\n",
      "\n"
     ]
    }
   ],
   "source": [
    "# ----------------------------\n",
    "# ----------------------------\n",
    "print(\"-\" * 5, \"Hello, Welcome to Python itertools practice!\", \"-\" * 5)\n",
    "print(\"Let's explore and practice various methods and properties of Python's itertools module\\n\")\n",
    "\n",
    "import itertools as itt\n",
    "\n",
    "# =========================================================="
   ]
  },
  {
   "cell_type": "markdown",
   "id": "ebf5ce4e",
   "metadata": {},
   "source": [
    "## 🔁 1. Infinite Iterators\n",
    "These iterators generate infinite sequences. Use them carefully with break or slicing."
   ]
  },
  {
   "cell_type": "code",
   "execution_count": 3,
   "id": "ba269030",
   "metadata": {},
   "outputs": [
    {
     "name": "stdout",
     "output_type": "stream",
     "text": [
      "\n",
      "🔁 1. Infinite Iterators\n",
      "\n",
      "count: 10\n",
      "count: 11\n",
      "count: 12\n",
      "count: 13\n",
      "count: 14\n",
      "count: 15\n",
      "cycle: A\n",
      "cycle: B\n",
      "cycle: C\n",
      "cycle: A\n",
      "cycle: B\n",
      "cycle: C\n",
      "repeat: Repeat Me\n",
      "repeat: Repeat Me\n",
      "repeat: Repeat Me\n"
     ]
    }
   ],
   "source": [
    "# ==========================================================\n",
    "# These iterators generate infinite sequences. Use them carefully with break or slicing.\n",
    "\n",
    "print(\"\\n🔁 1. Infinite Iterators\\n\")\n",
    "\n",
    "# 1.1 count(start=0, step=1): returns an iterator that counts indefinitely\n",
    "for i in itt.count(10):  # start from 10, step by 1\n",
    "    if i > 15:\n",
    "        break\n",
    "    print(f\"count: {i}\")\n",
    "\n",
    "# 1.2 cycle(iterable): cycles through elements endlessly\n",
    "cycle_iter = itt.cycle([\"A\", \"B\", \"C\"])\n",
    "for i in range(6):\n",
    "    print(f\"cycle: {next(cycle_iter)}\")\n",
    "\n",
    "# 1.3 repeat(object, times=None): repeats the object (infinitely or a fixed number of times)\n",
    "for i in itt.repeat(\"Repeat Me\", 3):\n",
    "    print(f\"repeat: {i}\")\n",
    "\n",
    "\n",
    "# =========================================================="
   ]
  },
  {
   "cell_type": "markdown",
   "id": "17e74028",
   "metadata": {},
   "source": [
    "## 🔢 2. Combinatoric Iterators\n",
    "Used to create combinations, permutations, and cartesian products."
   ]
  },
  {
   "cell_type": "code",
   "execution_count": 4,
   "id": "aaeb7a8a",
   "metadata": {},
   "outputs": [
    {
     "name": "stdout",
     "output_type": "stream",
     "text": [
      "\n",
      "🔢 2. Combinatoric Iterators\n",
      "\n",
      "product: (1, 1)\n",
      "product: (1, 2)\n",
      "product: (1, 3)\n",
      "product: (2, 1)\n",
      "product: (2, 2)\n",
      "product: (2, 3)\n",
      "product: (3, 1)\n",
      "product: (3, 2)\n",
      "product: (3, 3)\n",
      "permutation: (1, 2)\n",
      "permutation: (1, 3)\n",
      "permutation: (2, 1)\n",
      "permutation: (2, 3)\n",
      "permutation: (3, 1)\n",
      "permutation: (3, 2)\n",
      "combination: (1, 2)\n",
      "combination: (1, 3)\n",
      "combination: (2, 3)\n",
      "comb_with_replacement: (1, 1)\n",
      "comb_with_replacement: (1, 2)\n",
      "comb_with_replacement: (1, 3)\n",
      "comb_with_replacement: (2, 2)\n",
      "comb_with_replacement: (2, 3)\n",
      "comb_with_replacement: (3, 3)\n"
     ]
    }
   ],
   "source": [
    "# ==========================================================\n",
    "# Used to create combinations, permutations, and cartesian products.\n",
    "\n",
    "print(\"\\n🔢 2. Combinatoric Iterators\\n\")\n",
    "\n",
    "data = [1, 2, 3]\n",
    "\n",
    "# 2.1 product(*iterables, repeat=1): Cartesian product\n",
    "for item in itt.product(data, repeat=2):\n",
    "    print(f\"product: {item}\")\n",
    "\n",
    "# 2.2 permutations(iterable, r): All ordered arrangements of length r\n",
    "for item in itt.permutations(data, 2):\n",
    "    print(f\"permutation: {item}\")\n",
    "\n",
    "# 2.3 combinations(iterable, r): All unique unordered combinations\n",
    "for item in itt.combinations(data, 2):\n",
    "    print(f\"combination: {item}\")\n",
    "\n",
    "# 2.4 combinations_with_replacement(iterable, r): Like combinations, but allows duplicates\n",
    "for item in itt.combinations_with_replacement(data, 2):\n",
    "    print(f\"comb_with_replacement: {item}\")\n",
    "\n",
    "\n",
    "# =========================================================="
   ]
  },
  {
   "cell_type": "markdown",
   "id": "9f73282a",
   "metadata": {},
   "source": [
    "## 🧪 3. Terminating Iterators\n",
    "These iterators return finite results."
   ]
  },
  {
   "cell_type": "code",
   "execution_count": 5,
   "id": "4bf6010d",
   "metadata": {},
   "outputs": [
    {
     "name": "stdout",
     "output_type": "stream",
     "text": [
      "\n",
      "🧪 3. Terminating Iterators\n",
      "\n"
     ]
    }
   ],
   "source": [
    "# ==========================================================\n",
    "# These iterators return finite results. Let's divide them further by purpose.\n",
    "\n",
    "print(\"\\n🧪 3. Terminating Iterators\\n\")\n",
    "\n"
   ]
  },
  {
   "cell_type": "markdown",
   "id": "85c62ee2",
   "metadata": {},
   "source": [
    "### 🔍 3A. Filtering Iterators\n",
    "Select or filter elements from iterables based on a condition or selector."
   ]
  },
  {
   "cell_type": "code",
   "execution_count": 6,
   "id": "6964a928",
   "metadata": {},
   "outputs": [
    {
     "name": "stdout",
     "output_type": "stream",
     "text": [
      "\n",
      "🔍 3A. Filtering Iterators\n",
      "\n",
      "compress: a\n",
      "compress: c\n",
      "dropwhile: 6\n",
      "dropwhile: 7\n",
      "dropwhile: 2\n",
      "takewhile: 1\n",
      "takewhile: 4\n",
      "filterfalse (odd): 1\n",
      "filterfalse (odd): 3\n",
      "filterfalse (odd): 5\n",
      "filterfalse (odd): 7\n",
      "filterfalse (odd): 9\n"
     ]
    }
   ],
   "source": [
    "print(\"\\n🔍 3A. Filtering Iterators\\n\")\n",
    "\n",
    "# 3A.1 compress(data, selectors): select items where selector is True\n",
    "data = ['a', 'b', 'c', 'd']\n",
    "selectors = [1, 0, 1, 0]\n",
    "for item in itt.compress(data, selectors):\n",
    "    print(f\"compress: {item}\")\n",
    "\n",
    "# 3A.2 dropwhile(predicate, iterable): drop items while condition is True\n",
    "for item in itt.dropwhile(lambda x: x < 5, [1, 4, 6, 7, 2]):\n",
    "    print(f\"dropwhile: {item}\")\n",
    "\n",
    "# 3A.3 takewhile(predicate, iterable): take items while condition is True\n",
    "for item in itt.takewhile(lambda x: x < 5, [1, 4, 6, 7, 2]):\n",
    "    print(f\"takewhile: {item}\")\n",
    "\n",
    "# 3A.4 filterfalse(predicate, iterable): keep items where condition is False\n",
    "for item in itt.filterfalse(lambda x: x % 2 == 0, range(10)):\n",
    "    print(f\"filterfalse (odd): {item}\")\n",
    "\n"
   ]
  },
  {
   "cell_type": "markdown",
   "id": "3ebf297e",
   "metadata": {},
   "source": [
    "### 🔧 3B. Transforming Iterators\n",
    "Transform elements from one form to another using functions."
   ]
  },
  {
   "cell_type": "code",
   "execution_count": 7,
   "id": "f1cf96ab",
   "metadata": {},
   "outputs": [
    {
     "name": "stdout",
     "output_type": "stream",
     "text": [
      "\n",
      "🔧 3B. Transforming Iterators\n",
      "\n",
      "starmap (pow): 8.0\n",
      "starmap (pow): 9.0\n",
      "starmap (pow): 100.0\n",
      "islice: 2\n",
      "islice: 4\n",
      "islice: 6\n"
     ]
    }
   ],
   "source": [
    "print(\"\\n🔧 3B. Transforming Iterators\\n\")\n",
    "\n",
    "# 3B.1 starmap(function, iterable): apply function with unpacked arguments\n",
    "from math import pow\n",
    "pairs = [(2, 3), (3, 2), (10, 2)]\n",
    "for result in itt.starmap(pow, pairs):\n",
    "    print(f\"starmap (pow): {result}\")\n",
    "\n",
    "# 3B.2 islice(iterable, start, stop[, step]): slice iterator like a list\n",
    "for item in itt.islice(range(10), 2, 8, 2):\n",
    "    print(f\"islice: {item}\")\n",
    "\n"
   ]
  },
  {
   "cell_type": "markdown",
   "id": "3becf8f8",
   "metadata": {},
   "source": [
    "### 🔗 3C. Combining / Grouping Iterators\n",
    "Combine or group multiple iterators or iterable sequences."
   ]
  },
  {
   "cell_type": "code",
   "execution_count": 8,
   "id": "a5f12a38",
   "metadata": {},
   "outputs": [
    {
     "name": "stdout",
     "output_type": "stream",
     "text": [
      "\n",
      "🔗 3C. Combining / Grouping Iterators\n",
      "\n",
      "chain: A\n",
      "chain: B\n",
      "chain: 1\n",
      "chain: 2\n",
      "chain.from_iterable: 1\n",
      "chain.from_iterable: 2\n",
      "chain.from_iterable: 3\n",
      "chain.from_iterable: 4\n",
      "zip_longest: ('A', 1)\n",
      "zip_longest: ('B', '-')\n"
     ]
    }
   ],
   "source": [
    "print(\"\\n🔗 3C. Combining / Grouping Iterators\\n\")\n",
    "\n",
    "# 3C.1 chain(iter1, iter2, ...): join multiple iterables\n",
    "for item in itt.chain(\"AB\", [1, 2]):\n",
    "    print(f\"chain: {item}\")\n",
    "\n",
    "# 3C.2 chain.from_iterable(iterable_of_iterables)\n",
    "nested = [[1, 2], [3, 4]]\n",
    "for item in itt.chain.from_iterable(nested):\n",
    "    print(f\"chain.from_iterable: {item}\")\n",
    "\n",
    "# 3C.3 zip_longest(*iterables, fillvalue): zip but fill shorter sequences\n",
    "for item in itt.zip_longest(\"AB\", [1], fillvalue='-'):\n",
    "    print(f\"zip_longest: {item}\")\n",
    "\n"
   ]
  },
  {
   "cell_type": "markdown",
   "id": "5316d543",
   "metadata": {},
   "source": [
    "### 📚 3D. Duplicating / Grouping Iterators\n",
    "Duplicate iterators or group elements by certain rules."
   ]
  },
  {
   "cell_type": "code",
   "execution_count": 9,
   "id": "96fe0033",
   "metadata": {},
   "outputs": [
    {
     "name": "stdout",
     "output_type": "stream",
     "text": [
      "\n",
      "📚 3D. Duplicating / Grouping Iterators\n",
      "\n",
      "tee it1: [10, 20, 30]\n",
      "tee it2: [10, 20, 30]\n",
      "groupby a: ['apple', 'apricot', 'avocado']\n",
      "groupby b: ['banana']\n"
     ]
    }
   ],
   "source": [
    "print(\"\\n📚 3D. Duplicating / Grouping Iterators\\n\")\n",
    "\n",
    "# 3D.1 tee(iterable, n): create n independent iterators\n",
    "original = iter([10, 20, 30])\n",
    "it1, it2 = itt.tee(original, 2)\n",
    "print(f\"tee it1: {[x for x in it1]}\")\n",
    "print(f\"tee it2: {[x for x in it2]}\")\n",
    "\n",
    "# 3D.2 groupby(iterable, key): group consecutive items by a key function\n",
    "# Note: Input must be sorted on the same key for grouping to work properly.\n",
    "data = sorted(['apple', 'apricot', 'banana', 'avocado'], key=lambda x: x[0])\n",
    "for key, group in itt.groupby(data, key=lambda x: x[0]):\n",
    "    print(f\"groupby {key}: {list(group)}\")"
   ]
  },
  {
   "cell_type": "markdown",
   "id": "1f30b820a5cecb6",
   "metadata": {},
   "source": []
  }
 ],
 "metadata": {
  "kernelspec": {
   "display_name": "Python 3",
   "language": "python",
   "name": "python3"
  },
  "language_info": {
   "codemirror_mode": {
    "name": "ipython",
    "version": 3
   },
   "file_extension": ".py",
   "mimetype": "text/x-python",
   "name": "python",
   "nbconvert_exporter": "python",
   "pygments_lexer": "ipython3",
   "version": "3.13.5"
  }
 },
 "nbformat": 4,
 "nbformat_minor": 5
}
